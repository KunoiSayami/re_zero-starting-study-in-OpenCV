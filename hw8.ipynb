{
 "cells": [
  {
   "cell_type": "code",
   "execution_count": null,
   "metadata": {
    "scrolled": true
   },
   "outputs": [],
   "source": [
    "# -*- coding: utf-8 -*-\n",
    "# https://blog.csdn.net/sinat_31135199/article/details/51255182\n",
    "import numpy as np\n",
    "import time\n",
    "import cv2\n",
    "from matplotlib import pyplot as plt\n",
    "\n",
    "redLower = np.array([15, 100, 100])\n",
    "redUpper = np.array([70, 255, 255])\n",
    "camera = cv2.VideoCapture(\"imgv.mp4\")\n",
    "time.sleep(2)\n",
    "i = 0\n",
    "while True:\n",
    "    (ret, frame) = camera.read()\n",
    "    if not ret:\n",
    "        print('No Camera')\n",
    "        break\n",
    "    if i % 20 != 0:\n",
    "        continue\n",
    "    hsv = cv2.cvtColor(frame, cv2.COLOR_BGR2HSV)\n",
    "    mask = cv2.inRange(hsv, redLower, redUpper)\n",
    "    mask = cv2.erode(mask, None, iterations=2)\n",
    "    mask = cv2.dilate(mask, None, iterations=2)\n",
    "    cnts = cv2.findContours(mask.copy(), cv2.RETR_EXTERNAL, cv2.CHAIN_APPROX_SIMPLE)[-2]\n",
    "\n",
    "    frame[mask > 0] = (255, 0, 0)\n",
    "    plt.imshow(cv2.cvtColor(frame, cv2.COLOR_BGR2RGB))\n",
    "    plt.figure()\n",
    "    i += 1\n",
    "camera.release()"
   ]
  },
  {
   "cell_type": "code",
   "execution_count": null,
   "metadata": {},
   "outputs": [],
   "source": []
  },
  {
   "cell_type": "code",
   "execution_count": null,
   "metadata": {},
   "outputs": [],
   "source": []
  }
 ],
 "metadata": {
  "kernelspec": {
   "display_name": "Python 3",
   "language": "python",
   "name": "python3"
  },
  "language_info": {
   "codemirror_mode": {
    "name": "ipython",
    "version": 3
   },
   "file_extension": ".py",
   "mimetype": "text/x-python",
   "name": "python",
   "nbconvert_exporter": "python",
   "pygments_lexer": "ipython3",
   "version": "3.9.1"
  }
 },
 "nbformat": 4,
 "nbformat_minor": 4
}