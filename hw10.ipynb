{
 "cells": [
  {
   "cell_type": "code",
   "execution_count": 21,
   "metadata": {},
   "outputs": [
    {
     "name": "stdout",
     "output_type": "stream",
     "text": [
      "4976.746378302574\n",
      "paper\n",
      "2980.7493426799774\n",
      "scissors\n",
      "1751.5878744125366\n",
      "rock\n"
     ]
    }
   ],
   "source": [
    "# -*- encoding: utf-8 -*-\n",
    "# https://blog.csdn.net/libizhide/article/details/106877110\n",
    "import cv2\n",
    "import numpy as np\n",
    "from matplotlib import pyplot as plt\n",
    "\n",
    "\n",
    "def ellipse_detect(image):\n",
    "    # skin detection\n",
    "    img = image\n",
    "    skinCrCbHist = np.zeros((256, 256), dtype=np.uint8)\n",
    "    cv2.ellipse(skinCrCbHist, (113, 155), (23, 15), 43, 0, 360, (255, 255, 255), -1)\n",
    "    YCRCB = cv2.cvtColor(img, cv2.COLOR_BGR2YCR_CB)\n",
    "    (y, cr, cb) = cv2.split(YCRCB)\n",
    "    skin = np.zeros(cr.shape, dtype=np.uint8)\n",
    "    (x, y) = cr.shape\n",
    "    # accelerate process speed\n",
    "    for i in range(0, int(x / 3)):\n",
    "        i = 3 * i\n",
    "        for j in range(0, int(y / 3)):\n",
    "            j = j * 3\n",
    "            CR = YCRCB[i, j, 1]\n",
    "            CB = YCRCB[i, j, 2]\n",
    "            if skinCrCbHist[CR, CB] > 0:\n",
    "                skin[i, j] = 255\n",
    "    kernel = np.ones((3, 3), np.uint8)\n",
    "    skin = cv2.dilate(skin, kernel, iterations=1)\n",
    "    cnts, _ = cv2.findContours(skin, cv2.RETR_EXTERNAL, cv2.CHAIN_APPROX_SIMPLE)\n",
    "    s = sum(cv2.arcLength(x, True) for x in cnts)\n",
    "    print(s)\n",
    "    if s < 2000:\n",
    "        print('rock')\n",
    "    elif s < 3000:\n",
    "        print('scissors')\n",
    "    else:\n",
    "        print('paper')\n",
    "\n",
    "\n",
    "if __name__ == \"__main__\":\n",
    "    for im in ('paper.png', 'scissors.png', 'rock.png'):\n",
    "        image = cv2.imread(im)\n",
    "        hand = ellipse_detect(image)"
   ]
  }
 ],
 "metadata": {
  "kernelspec": {
   "display_name": "Python 3",
   "language": "python",
   "name": "python3"
  },
  "language_info": {
   "codemirror_mode": {
    "name": "ipython",
    "version": 3
   },
   "file_extension": ".py",
   "mimetype": "text/x-python",
   "name": "python",
   "nbconvert_exporter": "python",
   "pygments_lexer": "ipython3",
   "version": "3.9.1"
  }
 },
 "nbformat": 4,
 "nbformat_minor": 4
}