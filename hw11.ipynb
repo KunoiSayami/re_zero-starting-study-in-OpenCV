{
 "cells": [
  {
   "cell_type": "code",
   "execution_count": 25,
   "metadata": {},
   "outputs": [
    {
     "name": "stdout",
     "output_type": "stream",
     "text": [
      "LBPH:  92.31%\n",
      "Eigen:  90.77%\n",
      "Fisher:  82.56%\n"
     ]
    }
   ],
   "source": [
    "# -*- encoding: utf-8 -*-\n",
    "import numpy as np\n",
    "import cv2\n",
    "import os\n",
    "from matplotlib import pyplot as plt\n",
    "from typing import Union, Generator\n",
    "\n",
    "\n",
    "def test(reg: Union[cv2.face_LBPHFaceRecognizer,\n",
    "                    cv2.face_EigenFaceRecognizer,\n",
    "                    cv2.face_FisherFaceRecognizer]) -> Generator[bool, None, None]:\n",
    "    for x in range(1, 40):\n",
    "        for y in range(6, 11):\n",
    "            predict_image = cv2.imread(f'att_faces/s{x}/{y}.pgm', cv2.IMREAD_GRAYSCALE)\n",
    "            label, confidence = reg.predict(predict_image)\n",
    "            yield label == x - 1\n",
    "\n",
    "\n",
    "def main():\n",
    "    imgs = [cv2.imread(f'att_faces/s{x}/{y}.pgm', cv2.IMREAD_GRAYSCALE) for x in range(1, 41) for y in range(1, 6)]\n",
    "    labels = [x for x in range(40) for _ in range(5)]\n",
    "    for text, reg_creator in (('LBPH', cv2.face.LBPHFaceRecognizer_create), \n",
    "                              ('Eigen', cv2.face.EigenFaceRecognizer_create),\n",
    "                              ('Fisher', cv2.face.FisherFaceRecognizer_create)):\n",
    "        reg = reg_creator()\n",
    "        reg.train(imgs, np.array(labels))\n",
    "        item = [x for x in test(reg)]\n",
    "        print(f'{text}: {sum(map(int, item))/len(item) * 100 : .2f}%')\n",
    "\n",
    "\n",
    "if __name__ == '__main__':\n",
    "    main()\n"
   ]
  },
  {
   "cell_type": "code",
   "execution_count": null,
   "metadata": {},
   "outputs": [],
   "source": []
  }
 ],
 "metadata": {
  "kernelspec": {
   "display_name": "Python 3",
   "language": "python",
   "name": "python3"
  },
  "language_info": {
   "codemirror_mode": {
    "name": "ipython",
    "version": 3
   },
   "file_extension": ".py",
   "mimetype": "text/x-python",
   "name": "python",
   "nbconvert_exporter": "python",
   "pygments_lexer": "ipython3",
   "version": "3.9.1"
  }
 },
 "nbformat": 4,
 "nbformat_minor": 4
}